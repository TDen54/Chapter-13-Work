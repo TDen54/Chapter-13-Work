{
 "cells": [
  {
   "cell_type": "markdown",
   "id": "15957faa",
   "metadata": {},
   "source": [
    "#Programming Exercise Question 3"
   ]
  },
  {
   "cell_type": "code",
   "execution_count": null,
   "id": "a30a18a6",
   "metadata": {},
   "outputs": [],
   "source": [
    "import tkinter as tk\n",
    "\n",
    "def calculate_mpg():\n",
    "    try:\n",
    "        gallons = float(entry_gallons.get())\n",
    "        miles = float(entry_miles.get())\n",
    "        mpg = miles / gallons\n",
    "        result_label.config(text=f\"Miles Per Gallon: {mpg:.2f}\")\n",
    "    except ValueError:\n",
    "        result_label.config(text=\"Please enter valid numeric values for gallons and miles.\")\n",
    "\n",
    "def main():\n",
    "    # Create the main window\n",
    "    root = tk.Tk()\n",
    "    root.title(\"Car Gas Mileage Calculator\")\n",
    "\n",
    "    # Create and place widgets\n",
    "    label_gallons = tk.Label(root, text=\"Gallons of Gas:\")\n",
    "    label_gallons.grid(row=0, column=0, padx=10, pady=10)\n",
    "\n",
    "    global entry_gallons\n",
    "    entry_gallons = tk.Entry(root)\n",
    "    entry_gallons.grid(row=0, column=1, padx=10, pady=10)\n",
    "\n",
    "    label_miles = tk.Label(root, text=\"Miles on Full Tank:\")\n",
    "    label_miles.grid(row=1, column=0, padx=10, pady=10)\n",
    "\n",
    "    global entry_miles\n",
    "    entry_miles = tk.Entry(root)\n",
    "    entry_miles.grid(row=1, column=1, padx=10, pady=10)\n",
    "\n",
    "    calculate_button = tk.Button(root, text=\"Calculate MPG\", command=calculate_mpg)\n",
    "    calculate_button.grid(row=2, column=0, columnspan=2, pady=10)\n",
    "\n",
    "    global result_label\n",
    "    result_label = tk.Label(root, text=\"\")\n",
    "    result_label.grid(row=3, column=0, columnspan=2, pady=10)\n",
    "\n",
    "    # Start main event loop\n",
    "    root.mainloop()\n",
    "\n",
    "if __name__ == \"__main__\":\n",
    "    main()\n"
   ]
  },
  {
   "cell_type": "code",
   "execution_count": null,
   "id": "7610598d",
   "metadata": {},
   "outputs": [],
   "source": []
  }
 ],
 "metadata": {
  "kernelspec": {
   "display_name": "Python 3 (ipykernel)",
   "language": "python",
   "name": "python3"
  },
  "language_info": {
   "codemirror_mode": {
    "name": "ipython",
    "version": 3
   },
   "file_extension": ".py",
   "mimetype": "text/x-python",
   "name": "python",
   "nbconvert_exporter": "python",
   "pygments_lexer": "ipython3",
   "version": "3.11.4"
  }
 },
 "nbformat": 4,
 "nbformat_minor": 5
}
